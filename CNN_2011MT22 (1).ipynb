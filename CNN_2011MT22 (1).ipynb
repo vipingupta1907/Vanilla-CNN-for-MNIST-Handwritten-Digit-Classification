{
  "nbformat": 4,
  "nbformat_minor": 0,
  "metadata": {
    "colab": {
      "name": "CNN_2011MT22.ipynb",
      "provenance": [],
      "collapsed_sections": []
    },
    "kernelspec": {
      "name": "python3",
      "display_name": "Python 3"
    },
    "language_info": {
      "name": "python"
    },
    "accelerator": "GPU"
  },
  "cells": [
    {
      "cell_type": "markdown",
      "metadata": {
        "id": "SBKS9l1WiKIB"
      },
      "source": [
        "#Assignment 4\n",
        "\n",
        "CNN\n",
        "\n",
        "Name- Vipin Gupta\n",
        "\n",
        "Roll no- 2011MT22"
      ]
    },
    {
      "cell_type": "markdown",
      "metadata": {
        "id": "eBITnwlviF-E"
      },
      "source": [
        "Importing libraries"
      ]
    },
    {
      "cell_type": "code",
      "metadata": {
        "id": "0aB4wbH8VgNs"
      },
      "source": [
        "import gzip\n",
        "import numpy as np\n",
        "\n",
        "from keras.models import Sequential\n",
        "from keras.layers import Conv2D, MaxPooling2D\n",
        "from keras.layers import Flatten, Dense, BatchNormalization\n",
        "from keras.optimizers import SGD\n",
        "from keras.wrappers.scikit_learn import KerasClassifier\n",
        "from sklearn.model_selection import GridSearchCV\n",
        "from keras.utils import to_categorical"
      ],
      "execution_count": null,
      "outputs": []
    },
    {
      "cell_type": "markdown",
      "metadata": {
        "id": "ZZ0Vmcbl0f0Z"
      },
      "source": [
        "Load Data"
      ]
    },
    {
      "cell_type": "code",
      "metadata": {
        "id": "XgNnej7fysE0"
      },
      "source": [
        "train_imgs = gzip.open('train-images-idx3-ubyte.gz','r') \n",
        "train_label = gzip.open('train-labels-idx1-ubyte.gz','r') \n",
        "\n",
        "test_imgs = gzip.open('t10k-images-idx3-ubyte.gz' ,'r') \n",
        "test_label = gzip.open('t10k-labels-idx1-ubyte.gz' ,'r') "
      ],
      "execution_count": null,
      "outputs": []
    },
    {
      "cell_type": "code",
      "metadata": {
        "id": "MJNneG2pysCQ"
      },
      "source": [
        "image_size = 28\n",
        "train_images = 60000\n",
        "test_images = 10000\n",
        "\n",
        "train_imgs.read(16)\n",
        "buf_train = train_imgs.read(image_size * image_size * train_images)\n",
        "X_train = np.frombuffer(buf_train, dtype=np.uint8).astype(np.float32)\n",
        "X_train = X_train.reshape( train_images, image_size, image_size, 1)\n",
        "\n",
        "test_imgs.read(16)\n",
        "buf_test = test_imgs.read(image_size * image_size * test_images)\n",
        "X_test = np.frombuffer(buf_test, dtype=np.uint8).astype(np.float32)\n",
        "X_test = X_test.reshape( test_images, image_size, image_size, 1)"
      ],
      "execution_count": null,
      "outputs": []
    },
    {
      "cell_type": "code",
      "metadata": {
        "id": "UJawzQJrv105"
      },
      "source": [
        "X_train = X_train/255\n",
        "X_test = X_test/255"
      ],
      "execution_count": null,
      "outputs": []
    },
    {
      "cell_type": "code",
      "metadata": {
        "id": "LjZQsyjayr8O"
      },
      "source": [
        "train_label.read(8)\n",
        "y_train1 = []\n",
        "for i in range(0,60000):   \n",
        "    buf_train_label = train_label.read(1)\n",
        "    labels = np.frombuffer(buf_train_label, dtype=np.uint8).astype(np.int64)\n",
        "    y_train1.append(labels)\n",
        "    \n",
        "test_label.read(8)\n",
        "y_test1 = []\n",
        "for i in range(0,10000):   \n",
        "    buf_test_label = test_label.read(1)\n",
        "    labels = np.frombuffer(buf_test_label, dtype=np.uint8).astype(np.int64)\n",
        "    y_test1.append(labels)\n",
        "    \n",
        "y_train1 = np.array(y_train1)\n",
        "y_test1 = np.array(y_test1)"
      ],
      "execution_count": null,
      "outputs": []
    },
    {
      "cell_type": "code",
      "metadata": {
        "id": "CzNxHNlGo_EM"
      },
      "source": [
        "y_train = to_categorical(y_train1)\n",
        "y_test = to_categorical(y_test1)"
      ],
      "execution_count": null,
      "outputs": []
    },
    {
      "cell_type": "code",
      "metadata": {
        "id": "-PYWhUmE9RFg",
        "colab": {
          "base_uri": "https://localhost:8080/",
          "height": 265
        },
        "outputId": "f6b828a6-9322-4abf-de88-f8ed85566481"
      },
      "source": [
        "import matplotlib.pyplot as plt\n",
        "image = np.asarray(X_train[0]).squeeze()\n",
        "plt.imshow(image)\n",
        "plt.show()"
      ],
      "execution_count": null,
      "outputs": [
        {
          "output_type": "display_data",
          "data": {
            "image/png": "[encoded data removed]",
            "text/plain": [
              "<Figure size 432x288 with 1 Axes>"
            ]
          },
          "metadata": {
            "tags": [],
            "needs_background": "light"
          }
        }
      ]
    },
    {
      "cell_type": "markdown",
      "metadata": {
        "id": "EexplfWLgAyj"
      },
      "source": [
        "#CNN Model with gridsearch for hyperparameter tuning"
      ]
    },
    {
      "cell_type": "code",
      "metadata": {
        "id": "GquQJJOh2WrR"
      },
      "source": [
        "def define_model(neurons=64,conv_filter=32,learn_rate=0.01,optimizer='Adam'):\n",
        "  model = Sequential()\n",
        "  model.add(Conv2D(conv_filter,(3, 3),activation='relu',kernel_initializer='he_uniform',input_shape=(28, 28, 1)))\n",
        "  model.add(BatchNormalization())\n",
        "  model.add(MaxPooling2D((2, 2)))\n",
        " \n",
        "  model.add(Flatten()) \n",
        "  model.add(Dense(neurons, activation='relu', kernel_initializer='he_uniform'))\n",
        "  model.add(Dense(10, activation='softmax'))\n",
        "\n",
        "  # compile model\n",
        "  loss_fn='categorical_crossentropy'\n",
        "  if optimizer=='Adam':\n",
        "    opt = keras.optimizers.Adam(learning_rate=learn_rate)\n",
        "    model.compile(optimizer=opt, loss=loss_fn, metrics=['accuracy'])\n",
        "  else:\n",
        "    opt = SGD(lr=learn_rate)\n",
        "    model.compile(optimizer=opt, loss=loss_fn, metrics=['accuracy'])\n",
        "  return model\n"
      ],
      "execution_count": null,
      "outputs": []
    },
    {
      "cell_type": "code",
      "metadata": {
        "id": "xep871zA2cyT"
      },
      "source": [
        "# create model\n",
        "model = KerasClassifier(build_fn=define_model, verbose=0)\n",
        "\n"
      ],
      "execution_count": null,
      "outputs": []
    },
    {
      "cell_type": "code",
      "metadata": {
        "id": "qa09YfZJjMUD",
        "colab": {
          "base_uri": "https://localhost:8080/"
        },
        "outputId": "a2a2773d-78a5-45b6-bd22-c0e039a67f08"
      },
      "source": [
        "# define the grid search parameters\n",
        "batch_size = [64, 112]\n",
        "epochs = [30, 40]\n",
        "optimizer = ['SGD', 'Adam'] \n",
        "learn_rate = [0.001, 0.01]\n",
        "neurons= [64,128]\n",
        "conv_filter = [32,64]\n",
        "\n",
        "param_grid = dict(batch_size=batch_size, epochs=epochs,learn_rate=learn_rate,neurons=neurons,optimizer=optimizer,conv_filter=conv_filter)\n",
        "grid = GridSearchCV(estimator=model, param_grid=param_grid, n_jobs=-1, cv=3)\n",
        "grid_result = grid.fit(X_train,y_train, validation_split=0.1, verbose=1)"
      ],
      "execution_count": null,
      "outputs": [
        {
          "output_type": "stream",
          "text": [
            "/usr/local/lib/python3.7/dist-packages/joblib/externals/loky/process_executor.py:691: UserWarning: A worker stopped while some jobs were given to the executor. This can be caused by a too short worker timeout or by a memory leak.\n",
            "  \"timeout or by a memory leak.\", UserWarning\n"
          ],
          "name": "stderr"
        },
        {
          "output_type": "stream",
          "text": [
            "Epoch 1/30\n",
            "844/844 [==============================] - 6s 5ms/step - loss: 0.3387 - accuracy: 0.9047 - val_loss: 0.0746 - val_accuracy: 0.9787\n",
            "Epoch 2/30\n",
            "844/844 [==============================] - 4s 4ms/step - loss: 0.0608 - accuracy: 0.9829 - val_loss: 0.0591 - val_accuracy: 0.9838\n",
            "Epoch 3/30\n",
            "844/844 [==============================] - 4s 4ms/step - loss: 0.0383 - accuracy: 0.9892 - val_loss: 0.0481 - val_accuracy: 0.9862\n",
            "Epoch 4/30\n",
            "844/844 [==============================] - 4s 4ms/step - loss: 0.0233 - accuracy: 0.9942 - val_loss: 0.0524 - val_accuracy: 0.9867\n",
            "Epoch 5/30\n",
            "844/844 [==============================] - 4s 4ms/step - loss: 0.0182 - accuracy: 0.9959 - val_loss: 0.0461 - val_accuracy: 0.9867\n",
            "Epoch 6/30\n",
            "844/844 [==============================] - 4s 4ms/step - loss: 0.0120 - accuracy: 0.9979 - val_loss: 0.0462 - val_accuracy: 0.9870\n",
            "Epoch 7/30\n",
            "844/844 [==============================] - 4s 4ms/step - loss: 0.0093 - accuracy: 0.9989 - val_loss: 0.0456 - val_accuracy: 0.9875\n",
            "Epoch 8/30\n",
            "844/844 [==============================] - 4s 4ms/step - loss: 0.0070 - accuracy: 0.9995 - val_loss: 0.0458 - val_accuracy: 0.9878\n",
            "Epoch 9/30\n",
            "844/844 [==============================] - 4s 4ms/step - loss: 0.0056 - accuracy: 0.9997 - val_loss: 0.0448 - val_accuracy: 0.9887\n",
            "Epoch 10/30\n",
            "844/844 [==============================] - 4s 4ms/step - loss: 0.0048 - accuracy: 0.9998 - val_loss: 0.0457 - val_accuracy: 0.9883\n",
            "Epoch 11/30\n",
            "844/844 [==============================] - 4s 4ms/step - loss: 0.0041 - accuracy: 0.9999 - val_loss: 0.0461 - val_accuracy: 0.9888\n",
            "Epoch 12/30\n",
            "844/844 [==============================] - 4s 4ms/step - loss: 0.0034 - accuracy: 1.0000 - val_loss: 0.0455 - val_accuracy: 0.9887\n",
            "Epoch 13/30\n",
            "844/844 [==============================] - 4s 4ms/step - loss: 0.0029 - accuracy: 0.9999 - val_loss: 0.0456 - val_accuracy: 0.9893\n",
            "Epoch 14/30\n",
            "844/844 [==============================] - 4s 4ms/step - loss: 0.0027 - accuracy: 0.9999 - val_loss: 0.0464 - val_accuracy: 0.9892\n",
            "Epoch 15/30\n",
            "844/844 [==============================] - 4s 4ms/step - loss: 0.0024 - accuracy: 1.0000 - val_loss: 0.0461 - val_accuracy: 0.9887\n",
            "Epoch 16/30\n",
            "844/844 [==============================] - 4s 4ms/step - loss: 0.0021 - accuracy: 1.0000 - val_loss: 0.0469 - val_accuracy: 0.9887\n",
            "Epoch 17/30\n",
            "844/844 [==============================] - 4s 4ms/step - loss: 0.0020 - accuracy: 1.0000 - val_loss: 0.0471 - val_accuracy: 0.9890\n",
            "Epoch 18/30\n",
            "844/844 [==============================] - 4s 4ms/step - loss: 0.0020 - accuracy: 1.0000 - val_loss: 0.0478 - val_accuracy: 0.9893\n",
            "Epoch 19/30\n",
            "844/844 [==============================] - 4s 4ms/step - loss: 0.0017 - accuracy: 1.0000 - val_loss: 0.0471 - val_accuracy: 0.9888\n",
            "Epoch 20/30\n",
            "844/844 [==============================] - 4s 4ms/step - loss: 0.0016 - accuracy: 1.0000 - val_loss: 0.0480 - val_accuracy: 0.9893\n",
            "Epoch 21/30\n",
            "844/844 [==============================] - 4s 4ms/step - loss: 0.0015 - accuracy: 1.0000 - val_loss: 0.0477 - val_accuracy: 0.9893\n",
            "Epoch 22/30\n",
            "844/844 [==============================] - 4s 4ms/step - loss: 0.0014 - accuracy: 1.0000 - val_loss: 0.0473 - val_accuracy: 0.9888\n",
            "Epoch 23/30\n",
            "844/844 [==============================] - 4s 4ms/step - loss: 0.0013 - accuracy: 1.0000 - val_loss: 0.0476 - val_accuracy: 0.9892\n",
            "Epoch 24/30\n",
            "844/844 [==============================] - 4s 4ms/step - loss: 0.0012 - accuracy: 1.0000 - val_loss: 0.0484 - val_accuracy: 0.9892\n",
            "Epoch 25/30\n",
            "844/844 [==============================] - 4s 4ms/step - loss: 0.0012 - accuracy: 1.0000 - val_loss: 0.0475 - val_accuracy: 0.9893\n",
            "Epoch 26/30\n",
            "844/844 [==============================] - 4s 4ms/step - loss: 0.0011 - accuracy: 1.0000 - val_loss: 0.0480 - val_accuracy: 0.9890\n",
            "Epoch 27/30\n",
            "844/844 [==============================] - 4s 4ms/step - loss: 0.0011 - accuracy: 1.0000 - val_loss: 0.0481 - val_accuracy: 0.9887\n",
            "Epoch 28/30\n",
            "844/844 [==============================] - 4s 4ms/step - loss: 0.0010 - accuracy: 1.0000 - val_loss: 0.0484 - val_accuracy: 0.9897\n",
            "Epoch 29/30\n",
            "844/844 [==============================] - 4s 4ms/step - loss: 9.7626e-04 - accuracy: 1.0000 - val_loss: 0.0489 - val_accuracy: 0.9892\n",
            "Epoch 30/30\n",
            "844/844 [==============================] - 4s 4ms/step - loss: 9.1486e-04 - accuracy: 1.0000 - val_loss: 0.0495 - val_accuracy: 0.9890\n"
          ],
          "name": "stdout"
        }
      ]
    },
    {
      "cell_type": "markdown",
      "metadata": {
        "id": "M0f5gs9CydZp"
      },
      "source": [
        "#CNN Model with Data Augmentation at best parameter from gridsearch"
      ]
    },
    {
      "cell_type": "code",
      "metadata": {
        "id": "q4kYQFanD7Gf"
      },
      "source": [
        "from keras.preprocessing.image import ImageDataGenerator\n",
        "import pandas as pd\n",
        "import seaborn as sns"
      ],
      "execution_count": null,
      "outputs": []
    },
    {
      "cell_type": "code",
      "metadata": {
        "id": "tASaoWAgfCaf"
      },
      "source": [
        "# optimize parameters of the fit method \n",
        "cnn_model = define_model(neurons = grid_result.best_params_['neurons'],\n",
        "                          learn_rate = grid_result.best_params_['learn_rate'],\n",
        "                          optimizer = grid_result.best_params_['optimizer'],\n",
        "                          conv_filter = grid_result.best_params_['conv_filter'])\n",
        "\n"
      ],
      "execution_count": null,
      "outputs": []
    },
    {
      "cell_type": "code",
      "metadata": {
        "id": "tW6x9Ogkjabs",
        "colab": {
          "base_uri": "https://localhost:8080/"
        },
        "outputId": "86028b1f-55d7-41a0-f0bc-f131fd44d04b"
      },
      "source": [
        "# With data augmentation \n",
        "datagen = ImageDataGenerator(\n",
        "        rotation_range=40,\n",
        "        width_shift_range=0.2,\n",
        "        height_shift_range=0.2,\n",
        "        horizontal_flip=True,\n",
        "        validation_split=0.1) \n",
        "\n",
        "datagen.fit(X_train)\n",
        "\n",
        "history = cnn_model.fit_generator(datagen.flow(X_train,y_train, batch_size=grid_result.best_params_['batch_size'], subset='training'),\n",
        "                                  epochs = grid_result.best_params_['epochs'], \n",
        "                                  validation_data =datagen.flow(X_train, y_train, batch_size=grid_result.best_params_['batch_size'], subset='validation'),\n",
        "                                  verbose = 1)                        \n"
      ],
      "execution_count": null,
      "outputs": [
        {
          "output_type": "stream",
          "text": [
            "/usr/local/lib/python3.7/dist-packages/tensorflow/python/keras/engine/training.py:1844: UserWarning: `Model.fit_generator` is deprecated and will be removed in a future version. Please use `Model.fit`, which supports generators.\n",
            "  warnings.warn('`Model.fit_generator` is deprecated and '\n"
          ],
          "name": "stderr"
        },
        {
          "output_type": "stream",
          "text": [
            "Epoch 1/30\n",
            "844/844 [==============================] - 15s 18ms/step - loss: 1.4633 - accuracy: 0.5072 - val_loss: 0.7554 - val_accuracy: 0.7508\n",
            "Epoch 2/30\n",
            "844/844 [==============================] - 15s 17ms/step - loss: 0.7063 - accuracy: 0.7674 - val_loss: 0.5687 - val_accuracy: 0.8202\n",
            "Epoch 3/30\n",
            "844/844 [==============================] - 15s 17ms/step - loss: 0.5615 - accuracy: 0.8167 - val_loss: 0.4929 - val_accuracy: 0.8412\n",
            "Epoch 4/30\n",
            "844/844 [==============================] - 15s 17ms/step - loss: 0.4983 - accuracy: 0.8369 - val_loss: 0.4316 - val_accuracy: 0.8635\n",
            "Epoch 5/30\n",
            "844/844 [==============================] - 15s 17ms/step - loss: 0.4371 - accuracy: 0.8594 - val_loss: 0.4018 - val_accuracy: 0.8720\n",
            "Epoch 6/30\n",
            "844/844 [==============================] - 14s 17ms/step - loss: 0.4104 - accuracy: 0.8684 - val_loss: 0.3975 - val_accuracy: 0.8778\n",
            "Epoch 7/30\n",
            "844/844 [==============================] - 15s 17ms/step - loss: 0.3924 - accuracy: 0.8758 - val_loss: 0.3750 - val_accuracy: 0.8818\n",
            "Epoch 8/30\n",
            "844/844 [==============================] - 15s 17ms/step - loss: 0.3634 - accuracy: 0.8834 - val_loss: 0.4749 - val_accuracy: 0.8505\n",
            "Epoch 9/30\n",
            "844/844 [==============================] - 15s 17ms/step - loss: 0.3422 - accuracy: 0.8896 - val_loss: 0.3054 - val_accuracy: 0.9065\n",
            "Epoch 10/30\n",
            "844/844 [==============================] - 15s 17ms/step - loss: 0.3346 - accuracy: 0.8927 - val_loss: 0.3099 - val_accuracy: 0.9035\n",
            "Epoch 11/30\n",
            "844/844 [==============================] - 15s 17ms/step - loss: 0.3127 - accuracy: 0.9022 - val_loss: 0.3104 - val_accuracy: 0.9060\n",
            "Epoch 12/30\n",
            "844/844 [==============================] - 15s 17ms/step - loss: 0.3067 - accuracy: 0.9015 - val_loss: 0.2906 - val_accuracy: 0.9098\n",
            "Epoch 13/30\n",
            "844/844 [==============================] - 15s 17ms/step - loss: 0.2979 - accuracy: 0.9052 - val_loss: 0.2961 - val_accuracy: 0.9068\n",
            "Epoch 14/30\n",
            "844/844 [==============================] - 15s 17ms/step - loss: 0.2968 - accuracy: 0.9071 - val_loss: 0.2961 - val_accuracy: 0.9075\n",
            "Epoch 15/30\n",
            "844/844 [==============================] - 14s 17ms/step - loss: 0.2859 - accuracy: 0.9100 - val_loss: 0.3116 - val_accuracy: 0.9035\n",
            "Epoch 16/30\n",
            "844/844 [==============================] - 15s 17ms/step - loss: 0.2838 - accuracy: 0.9089 - val_loss: 0.3158 - val_accuracy: 0.9002\n",
            "Epoch 17/30\n",
            "844/844 [==============================] - 15s 17ms/step - loss: 0.2738 - accuracy: 0.9125 - val_loss: 0.2643 - val_accuracy: 0.9162\n",
            "Epoch 18/30\n",
            "844/844 [==============================] - 15s 17ms/step - loss: 0.2604 - accuracy: 0.9165 - val_loss: 0.2709 - val_accuracy: 0.9160\n",
            "Epoch 19/30\n",
            "844/844 [==============================] - 15s 17ms/step - loss: 0.2591 - accuracy: 0.9181 - val_loss: 0.2661 - val_accuracy: 0.9203\n",
            "Epoch 20/30\n",
            "844/844 [==============================] - 14s 17ms/step - loss: 0.2560 - accuracy: 0.9212 - val_loss: 0.2525 - val_accuracy: 0.9230\n",
            "Epoch 21/30\n",
            "844/844 [==============================] - 15s 17ms/step - loss: 0.2560 - accuracy: 0.9189 - val_loss: 0.2439 - val_accuracy: 0.9208\n",
            "Epoch 22/30\n",
            "844/844 [==============================] - 15s 17ms/step - loss: 0.2461 - accuracy: 0.9230 - val_loss: 0.2509 - val_accuracy: 0.9242\n",
            "Epoch 23/30\n",
            "844/844 [==============================] - 15s 18ms/step - loss: 0.2465 - accuracy: 0.9224 - val_loss: 0.2363 - val_accuracy: 0.9275\n",
            "Epoch 24/30\n",
            "844/844 [==============================] - 14s 17ms/step - loss: 0.2291 - accuracy: 0.9271 - val_loss: 0.2197 - val_accuracy: 0.9300\n",
            "Epoch 25/30\n",
            "844/844 [==============================] - 15s 17ms/step - loss: 0.2380 - accuracy: 0.9252 - val_loss: 0.2561 - val_accuracy: 0.9177\n",
            "Epoch 26/30\n",
            "844/844 [==============================] - 15s 17ms/step - loss: 0.2218 - accuracy: 0.9284 - val_loss: 0.2438 - val_accuracy: 0.9247\n",
            "Epoch 27/30\n",
            "844/844 [==============================] - 15s 18ms/step - loss: 0.2304 - accuracy: 0.9267 - val_loss: 0.2407 - val_accuracy: 0.9230\n",
            "Epoch 28/30\n",
            "844/844 [==============================] - 15s 17ms/step - loss: 0.2251 - accuracy: 0.9307 - val_loss: 0.2414 - val_accuracy: 0.9268\n",
            "Epoch 29/30\n",
            "844/844 [==============================] - 15s 17ms/step - loss: 0.2281 - accuracy: 0.9287 - val_loss: 0.2168 - val_accuracy: 0.9303\n",
            "Epoch 30/30\n",
            "844/844 [==============================] - 15s 18ms/step - loss: 0.2207 - accuracy: 0.9296 - val_loss: 0.2118 - val_accuracy: 0.9320\n"
          ],
          "name": "stdout"
        }
      ]
    },
    {
      "cell_type": "code",
      "metadata": {
        "id": "cXx0YodmjeXD",
        "colab": {
          "base_uri": "https://localhost:8080/",
          "height": 265
        },
        "outputId": "874325dd-1fc3-4eb9-effd-e427497b1cc4"
      },
      "source": [
        "# plot accuracy on training and validation data\n",
        "df_history = pd.DataFrame(history.history)\n",
        "sns.lineplot(data=df_history[['accuracy','val_accuracy']], palette=\"tab10\", linewidth=2.5);\n"
      ],
      "execution_count": null,
      "outputs": [
        {
          "output_type": "display_data",
          "data": {
            "image/png": "[encoded data removed]",
            "text/plain": [
              "<Figure size 432x288 with 1 Axes>"
            ]
          },
          "metadata": {
            "tags": [],
            "needs_background": "light"
          }
        }
      ]
    },
    {
      "cell_type": "markdown",
      "metadata": {
        "id": "Em5lOo1iEm4E"
      },
      "source": [
        "#Classification Report (Accuracy, precision, F score, recall) and confusion matrix"
      ]
    },
    {
      "cell_type": "code",
      "metadata": {
        "id": "hYCY9MDjTh5J"
      },
      "source": [
        "# predict classes for test set\n",
        "yhat = cnn_model.predict(X_test) "
      ],
      "execution_count": null,
      "outputs": []
    },
    {
      "cell_type": "code",
      "metadata": {
        "id": "c0zmHyosfCVF"
      },
      "source": [
        "from sklearn.metrics import accuracy_score,precision_score,recall_score,f1_score,confusion_matrix"
      ],
      "execution_count": null,
      "outputs": []
    },
    {
      "cell_type": "code",
      "metadata": {
        "id": "7_k0_49dBkl-"
      },
      "source": [
        "ypred = np.argmax(yhat,axis=1)\n",
        "ytest = np.argmax(y_test,axis=1)"
      ],
      "execution_count": null,
      "outputs": []
    },
    {
      "cell_type": "code",
      "metadata": {
        "colab": {
          "base_uri": "https://localhost:8080/"
        },
        "id": "-AUrdP22-cQ7",
        "outputId": "26b49475-ef46-4312-bff5-81d404c1558c"
      },
      "source": [
        "#Classification Report\n",
        "\n",
        "print('Classification report')\n",
        "print(metrics.classification_report(ytest,n,digits=3))\n"
      ],
      "execution_count": null,
      "outputs": [
        {
          "output_type": "stream",
          "text": [
            "Classification report\n",
            "              precision    recall  f1-score   support\n",
            "\n",
            "           0      0.980     0.971     0.976       980\n",
            "           1      0.997     0.872     0.930      1135\n",
            "           2      0.974     0.943     0.958      1032\n",
            "           3      0.959     0.981     0.970      1010\n",
            "           4      0.878     0.997     0.934       982\n",
            "           5      0.948     0.960     0.954       892\n",
            "           6      0.939     0.979     0.959       958\n",
            "           7      0.973     0.961     0.967      1028\n",
            "           8      0.975     0.983     0.979       974\n",
            "           9      0.968     0.949     0.958      1009\n",
            "\n",
            "    accuracy                          0.958     10000\n",
            "   macro avg      0.959     0.960     0.958     10000\n",
            "weighted avg      0.960     0.958     0.958     10000\n",
            "\n"
          ],
          "name": "stdout"
        }
      ]
    },
    {
      "cell_type": "code",
      "metadata": {
        "colab": {
          "base_uri": "https://localhost:8080/"
        },
        "id": "xE_3FtgFFB8-",
        "outputId": "4cb9d67c-dfd6-476b-960b-b67f4c56aa28"
      },
      "source": [
        "conf_matrix = confusion_matrix(ytest, ypred)\n",
        "print('Confusion Matrix: \\n')\n",
        "print(conf_matrix)"
      ],
      "execution_count": null,
      "outputs": [
        {
          "output_type": "stream",
          "text": [
            "Confusion Matrix: \n",
            "\n",
            "[[ 946    0    2    5    0   19    3    0    3    2]\n",
            " [   0 1105    2   13    3    2    3    6    1    0]\n",
            " [   1    1  732   91    7  156   11   24    9    0]\n",
            " [   0    0    0  967    0   41    0    2    0    0]\n",
            " [   0    0    1    6  947    1    1    4    8   14]\n",
            " [   0    0    7   33    0  846    1    3    1    1]\n",
            " [   4    0   13   20    4   76  839    1    1    0]\n",
            " [   0    1   19   27    6   28    0  941    1    5]\n",
            " [   0    0   16   28    5   36    0    1  882    6]\n",
            " [   2    0    3   21    9   13    0   11   10  940]]\n"
          ],
          "name": "stdout"
        }
      ]
    }
  ]
}